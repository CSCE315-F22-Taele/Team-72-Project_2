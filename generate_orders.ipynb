{
 "cells": [
  {
   "cell_type": "code",
   "execution_count": 230,
   "metadata": {},
   "outputs": [],
   "source": [
    "import pandas as pd\n",
    "import random\n",
    "import datetime"
   ]
  },
  {
   "cell_type": "code",
   "execution_count": 8,
   "metadata": {},
   "outputs": [
    {
     "data": {
      "text/html": [
       "<div>\n",
       "<style scoped>\n",
       "    .dataframe tbody tr th:only-of-type {\n",
       "        vertical-align: middle;\n",
       "    }\n",
       "\n",
       "    .dataframe tbody tr th {\n",
       "        vertical-align: top;\n",
       "    }\n",
       "\n",
       "    .dataframe thead th {\n",
       "        text-align: right;\n",
       "    }\n",
       "</style>\n",
       "<table border=\"1\" class=\"dataframe\">\n",
       "  <thead>\n",
       "    <tr style=\"text-align: right;\">\n",
       "      <th></th>\n",
       "      <th>name</th>\n",
       "      <th>customer_price</th>\n",
       "      <th>restock_price</th>\n",
       "      <th>customer_amount</th>\n",
       "      <th>restock_amount</th>\n",
       "      <th>order_unit</th>\n",
       "      <th>inventory</th>\n",
       "      <th>Type</th>\n",
       "    </tr>\n",
       "    <tr>\n",
       "      <th>ID</th>\n",
       "      <th></th>\n",
       "      <th></th>\n",
       "      <th></th>\n",
       "      <th></th>\n",
       "      <th></th>\n",
       "      <th></th>\n",
       "      <th></th>\n",
       "      <th></th>\n",
       "    </tr>\n",
       "  </thead>\n",
       "  <tbody>\n",
       "    <tr>\n",
       "      <th>1</th>\n",
       "      <td>Steak</td>\n",
       "      <td>8.29</td>\n",
       "      <td>25.0</td>\n",
       "      <td>3.00</td>\n",
       "      <td>30</td>\n",
       "      <td>pounds</td>\n",
       "      <td>135</td>\n",
       "      <td>Protein</td>\n",
       "    </tr>\n",
       "    <tr>\n",
       "      <th>2</th>\n",
       "      <td>Ground Beef</td>\n",
       "      <td>8.19</td>\n",
       "      <td>54.6</td>\n",
       "      <td>1.00</td>\n",
       "      <td>10</td>\n",
       "      <td>pounds</td>\n",
       "      <td>56</td>\n",
       "      <td>Protein</td>\n",
       "    </tr>\n",
       "    <tr>\n",
       "      <th>3</th>\n",
       "      <td>Chicken</td>\n",
       "      <td>7.29</td>\n",
       "      <td>25.0</td>\n",
       "      <td>2.75</td>\n",
       "      <td>30</td>\n",
       "      <td>pounds</td>\n",
       "      <td>97</td>\n",
       "      <td>Protein</td>\n",
       "    </tr>\n",
       "    <tr>\n",
       "      <th>4</th>\n",
       "      <td>Vegetables</td>\n",
       "      <td>7.29</td>\n",
       "      <td>15.0</td>\n",
       "      <td>3.50</td>\n",
       "      <td>30</td>\n",
       "      <td>pounds</td>\n",
       "      <td>145</td>\n",
       "      <td>Protein</td>\n",
       "    </tr>\n",
       "    <tr>\n",
       "      <th>5</th>\n",
       "      <td>Taco Shells</td>\n",
       "      <td>0.00</td>\n",
       "      <td>20.0</td>\n",
       "      <td>2.00</td>\n",
       "      <td>100</td>\n",
       "      <td>shells</td>\n",
       "      <td>245</td>\n",
       "      <td>Entree Base</td>\n",
       "    </tr>\n",
       "  </tbody>\n",
       "</table>\n",
       "</div>"
      ],
      "text/plain": [
       "           name  customer_price  restock_price  customer_amount  \\\n",
       "ID                                                                \n",
       "1         Steak            8.29           25.0             3.00   \n",
       "2   Ground Beef            8.19           54.6             1.00   \n",
       "3       Chicken            7.29           25.0             2.75   \n",
       "4    Vegetables            7.29           15.0             3.50   \n",
       "5   Taco Shells            0.00           20.0             2.00   \n",
       "\n",
       "    restock_amount order_unit inventory         Type  \n",
       "ID                                                    \n",
       "1               30     pounds       135      Protein  \n",
       "2               10     pounds        56      Protein  \n",
       "3               30     pounds        97      Protein  \n",
       "4               30     pounds       145      Protein  \n",
       "5              100     shells       245  Entree Base  "
      ]
     },
     "execution_count": 8,
     "metadata": {},
     "output_type": "execute_result"
    }
   ],
   "source": [
    "items = pd.read_csv(\"./item.csv\")\n",
    "items = items.set_index(\"ID\")\n",
    "items.head()"
   ]
  },
  {
   "cell_type": "code",
   "execution_count": 11,
   "metadata": {},
   "outputs": [],
   "source": [
    "customer_orders = pd.DataFrame(columns=[\"id\", \"price\", \"time_of_order\", \"employee_id\"])\n",
    "customer_order_items = pd.DataFrame(columns=[\"id\", \"name\", \"price\"])\n",
    "co_to_coi = pd.DataFrame(columns=[\"co_id\", \"coi_id\"])\n",
    "coi_to_i = pd.DataFrame(columns=[\"coi_id\", \"i_id\"])"
   ]
  },
  {
   "cell_type": "code",
   "execution_count": 17,
   "metadata": {},
   "outputs": [
    {
     "data": {
      "text/plain": [
       "2"
      ]
     },
     "execution_count": 17,
     "metadata": {},
     "output_type": "execute_result"
    }
   ],
   "source": [
    "random.choice(list(items[items[\"Type\"] == \"Protein\"].index))"
   ]
  },
  {
   "cell_type": "code",
   "execution_count": 133,
   "metadata": {},
   "outputs": [],
   "source": [
    "def generate_entree():      # generate entree and return item ids\n",
    "    ing_ids = []    # list of ids for ingredients\n",
    "    \n",
    "    # generate base\n",
    "    ing_ids.append(random.choice(list(items[items[\"Type\"] == \"Entree Base\"].index)))\n",
    "    \n",
    "    # generate protein\n",
    "    ing_ids.append(random.choice(list(items[items[\"Type\"] == \"Rice\"].index)))\n",
    "    ing_ids.append(random.choice(list(items[items[\"Type\"] == \"Beans\"].index)))\n",
    "    ing_ids.append(random.choice(list(items[items[\"Type\"] == \"Protein\"].index)))\n",
    "    \n",
    "    # add cheese\n",
    "    prob = random.random()\n",
    "    if prob < 0.4:\n",
    "        ing_ids.append(list(items[items[\"name\"] == \"Cheddar Cheese\"].index)[0])\n",
    "    elif prob < 0.8:\n",
    "        ing_ids.append(list(items[items[\"name\"] == \"American Cheese\"].index)[0])\n",
    "    \n",
    "    # generate list of toppings\n",
    "    toppings = items[items[\"Type\"] == \"Toppings\"]\n",
    "    num_toppings = random.randint(0, toppings.shape[0])\n",
    "    topping_ids = random.sample(list(toppings.index), num_toppings)\n",
    "    topping_ids.sort()\n",
    "    ing_ids.extend(topping_ids)\n",
    "    \n",
    "    # add sauce\n",
    "    prob = random.random()\n",
    "    if prob < 0.85:     # one sauce\n",
    "        ing_ids.append(random.choice(list(items[items[\"Type\"] == \"Sauces\"].index)))\n",
    "    elif prob < 0.95:   # two sauces\n",
    "        sauces = items[items[\"Type\"] == \"Sauces\"]\n",
    "        sauce_ids = random.sample(list(sauces.index), 2)\n",
    "        sauce_ids.sort()\n",
    "        ing_ids.extend(sauce_ids)\n",
    "    \n",
    "    return ing_ids\n",
    "\n",
    "def generate_side():\n",
    "    return random.choice(list(items[items[\"Type\"] == \"Sides\"].index))\n",
    "\n",
    "def generate_drink():\n",
    "    return random.choice(list(items[items[\"Type\"] == \"Drinks\"].index))"
   ]
  },
  {
   "cell_type": "code",
   "execution_count": 212,
   "metadata": {},
   "outputs": [],
   "source": [
    "def generate_order():\n",
    "    coi_ids = []\n",
    "    \n",
    "    global customer_order_items\n",
    "    global coi_to_i\n",
    "    \n",
    "    entree_ids = generate_entree()\n",
    "    entree_price = 0\n",
    "    entree_protein = \"\"\n",
    "    entree_base = \"\"\n",
    "    for ind in entree_ids:\n",
    "        item_type = items.loc[ind][\"Type\"]\n",
    "        if entree_protein == \"\" and item_type == \"Protein\":\n",
    "            entree_protein = items.loc[ind][\"name\"]\n",
    "        elif entree_base == \"\" and item_type == \"Entree Base\":\n",
    "            item_name = items.loc[ind][\"name\"]\n",
    "            if (item_name == \"Bowls\"):\n",
    "                entree_base = \"Bowl\"\n",
    "            elif (item_name == \"Taco Shells\"):\n",
    "                entree_base = \"Tacos\"\n",
    "            elif (item_name == \"Burrito Tortilla\"):\n",
    "                entree_base = \"Burrito\"\n",
    "            else:\n",
    "                entree_base = \"Salad\"\n",
    "        entree_price += items.loc[ind][\"customer_price\"]\n",
    "    entree_name = entree_protein + \" \" + entree_base\n",
    "    coi_id = customer_order_items.shape[0] + 1\n",
    "    \n",
    "    customer_order_items = customer_order_items.append({\n",
    "            \"id\": coi_id,\n",
    "            \"name\": entree_name,\n",
    "            \"price\": entree_price\n",
    "        }, ignore_index=True)\n",
    "    \n",
    "    for ent_id in entree_ids:\n",
    "        coi_to_i = coi_to_i.append({\n",
    "                \"coi_id\": coi_id,\n",
    "                \"i_id\": ent_id\n",
    "            }, ignore_index=True)\n",
    "        \n",
    "    coi_ids.append(coi_id)\n",
    "        \n",
    "    prob_side = random.random()\n",
    "    if prob_side < 0.2:\n",
    "        side_id = generate_side()\n",
    "        side_price = items.loc[side_id][\"customer_price\"]\n",
    "        side_name = items.loc[side_id][\"name\"]\n",
    "        coi_id = customer_order_items.shape[0] + 1\n",
    "        \n",
    "        customer_order_items = customer_order_items.append({\n",
    "                \"id\": coi_id,\n",
    "                \"name\": side_name,\n",
    "                \"price\": side_price\n",
    "            }, ignore_index=True)\n",
    "        \n",
    "        coi_to_i = coi_to_i.append({\n",
    "                \"coi_id\": coi_id,\n",
    "                \"i_id\": side_id\n",
    "            }, ignore_index=True)\n",
    "        \n",
    "        coi_ids.append(coi_id)\n",
    "        \n",
    "    prob_drink = random.random()\n",
    "    if prob_side < 0.6:\n",
    "        drink_id = generate_drink()\n",
    "        drink_price = items.loc[drink_id][\"customer_price\"]\n",
    "        drink_name = items.loc[drink_id][\"name\"]\n",
    "        coi_id = customer_order_items.shape[0] + 1\n",
    "        \n",
    "        customer_order_items = customer_order_items.append({\n",
    "                \"id\": coi_id,\n",
    "                \"name\": drink_name,\n",
    "                \"price\": drink_price\n",
    "            }, ignore_index=True)\n",
    "        \n",
    "        coi_to_i = coi_to_i.append({\n",
    "                \"coi_id\": coi_id,\n",
    "                \"i_id\": drink_id\n",
    "            }, ignore_index=True)\n",
    "        \n",
    "        coi_ids.append(coi_id)\n",
    "        \n",
    "    return coi_ids"
   ]
  },
  {
   "cell_type": "code",
   "execution_count": 286,
   "metadata": {},
   "outputs": [],
   "source": [
    "def process_customer_order(time_of_order, employee_id):\n",
    "    global customer_orders\n",
    "    global co_to_coi\n",
    "    \n",
    "    coi_ids = generate_order()\n",
    "    co_id = customer_orders.shape[0] + 1\n",
    "    total = 0\n",
    "    for coi_id in coi_ids:\n",
    "        total += customer_order_items[customer_order_items[\"id\"] == coi_id][\"price\"].iloc[0]\n",
    "        \n",
    "    customer_orders = customer_orders.append({\n",
    "            \"id\": co_id,\n",
    "            \"price\": total,\n",
    "            \"time_of_order\": time_of_order.strftime(\"%Y-%m-%d %H:%M:%S\"),\n",
    "            \"employee_id\": employee_id\n",
    "        }, ignore_index=True)\n",
    "    \n",
    "    for coi_id in coi_ids:\n",
    "        co_to_coi = co_to_coi.append({\n",
    "                \"co_id\": co_id,\n",
    "                \"coi_id\": coi_id\n",
    "            }, ignore_index=True)\n",
    "    \n"
   ]
  },
  {
   "cell_type": "code",
   "execution_count": 305,
   "metadata": {},
   "outputs": [],
   "source": [
    "# clear all tables\n",
    "customer_orders = customer_orders.iloc[0:0]\n",
    "customer_order_items = customer_order_items.iloc[0:0]\n",
    "coi_to_i = coi_to_i.iloc[0:0]\n",
    "co_to_coi = co_to_coi.iloc[0:0]"
   ]
  },
  {
   "cell_type": "code",
   "execution_count": 306,
   "metadata": {},
   "outputs": [],
   "source": [
    "open_time = datetime.datetime.strptime('2022-09-12 10:00:00', \"%Y-%m-%d %H:%M:%S\")\n",
    "close_time = datetime.datetime.strptime('2022-09-12 16:00:00', \"%Y-%m-%d %H:%M:%S\")\n",
    "current_dt = open_time\n",
    "cashier = random.randint(1, 8)\n",
    "\n",
    "for i in range(5):\n",
    "    min_delta = 1.0\n",
    "    min_scale = 0.1\n",
    "    if datetime.date.weekday(open_time) == 4:\n",
    "        min_delta = 0.5\n",
    "    while (current_dt < close_time):\n",
    "        current_dt += datetime.timedelta(minutes = (random.gauss(0, 1) * min_scale) + min_delta)\n",
    "        process_customer_order(current_dt, cashier)\n",
    "    open_time += datetime.timedelta(days=1)\n",
    "    close_time += datetime.timedelta(days=1)\n",
    "    current_dt = open_time\n",
    "    cashier = random.randint(1, 8)"
   ]
  },
  {
   "cell_type": "code",
   "execution_count": 308,
   "metadata": {},
   "outputs": [],
   "source": [
    "open_time = datetime.datetime.strptime('2022-09-19 10:00:00', \"%Y-%m-%d %H:%M:%S\")\n",
    "close_time = datetime.datetime.strptime('2022-09-19 16:00:00', \"%Y-%m-%d %H:%M:%S\")\n",
    "current_dt = open_time\n",
    "cashier = random.randint(1, 8)\n",
    "\n",
    "for i in range(5):\n",
    "    min_delta = 1.0\n",
    "    min_scale = 0.1\n",
    "    if datetime.date.weekday(open_time) == 4:\n",
    "        min_delta = 0.5\n",
    "    while (current_dt < close_time):\n",
    "        current_dt += datetime.timedelta(minutes = (random.gauss(0, 1) * min_scale) + min_delta)\n",
    "        process_customer_order(current_dt, cashier)\n",
    "    open_time += datetime.timedelta(days=1)\n",
    "    close_time += datetime.timedelta(days=1)\n",
    "    current_dt = open_time\n",
    "    cashier = random.randint(1, 8)"
   ]
  },
  {
   "cell_type": "code",
   "execution_count": 309,
   "metadata": {},
   "outputs": [],
   "source": [
    "open_time = datetime.datetime.strptime('2022-09-26 10:00:00', \"%Y-%m-%d %H:%M:%S\")\n",
    "close_time = datetime.datetime.strptime('2022-09-26 16:00:00', \"%Y-%m-%d %H:%M:%S\")\n",
    "current_dt = open_time\n",
    "cashier = random.randint(1, 8)\n",
    "\n",
    "for i in range(5):\n",
    "    min_delta = 1.0\n",
    "    min_scale = 0.1\n",
    "    while (current_dt < close_time):\n",
    "        current_dt += datetime.timedelta(minutes = (random.gauss(0, 1) * min_scale) + min_delta)\n",
    "        process_customer_order(current_dt, cashier)\n",
    "    open_time += datetime.timedelta(days=1)\n",
    "    close_time += datetime.timedelta(days=1)\n",
    "    current_dt = open_time\n",
    "    cashier = random.randint(1, 8)"
   ]
  },
  {
   "cell_type": "code",
   "execution_count": 310,
   "metadata": {},
   "outputs": [
    {
     "data": {
      "text/plain": [
       "id                                                        18754750\n",
       "price                                                     57799.65\n",
       "time_of_order    2022-09-12 10:01:062022-09-12 10:02:052022-09-...\n",
       "employee_id                                                  23773\n",
       "dtype: object"
      ]
     },
     "execution_count": 310,
     "metadata": {},
     "output_type": "execute_result"
    }
   ],
   "source": [
    "customer_orders.sum()"
   ]
  },
  {
   "cell_type": "code",
   "execution_count": 297,
   "metadata": {},
   "outputs": [
    {
     "data": {
      "text/plain": [
       "4"
      ]
     },
     "execution_count": 297,
     "metadata": {},
     "output_type": "execute_result"
    }
   ],
   "source": [
    "datetime.date.weekday(datetime.datetime.strptime('2022-09-16 10:00:00', \"%Y-%m-%d %H:%M:%S\"))"
   ]
  },
  {
   "cell_type": "code",
   "execution_count": 329,
   "metadata": {},
   "outputs": [],
   "source": [
    "coi_to_i.to_csv(\"./csv-files/coi_to_i.csv\", index=False)\n",
    "co_to_coi.to_csv(\"./csv-files/co_to_coi.csv\", index=False)\n",
    "customer_order_items.to_csv(\"./csv-files/customer_order_items.csv\", index=False)\n",
    "customer_orders.to_csv(\"./csv-files/customer_orders.csv\", index=False)"
   ]
  },
  {
   "cell_type": "code",
   "execution_count": 330,
   "metadata": {},
   "outputs": [
    {
     "data": {
      "text/plain": [
       "Index(['id', 'price', 'time_of_order', 'employee_id', 'date', 'time'], dtype='object')"
      ]
     },
     "execution_count": 330,
     "metadata": {},
     "output_type": "execute_result"
    }
   ],
   "source": [
    "customer_orders.columns"
   ]
  },
  {
   "cell_type": "code",
   "execution_count": 331,
   "metadata": {},
   "outputs": [],
   "source": [
    "customer_orders[\"date\"]  = customer_orders[\"time_of_order\"].str[:10]"
   ]
  },
  {
   "cell_type": "code",
   "execution_count": 332,
   "metadata": {},
   "outputs": [
    {
     "data": {
      "text/html": [
       "<div>\n",
       "<style scoped>\n",
       "    .dataframe tbody tr th:only-of-type {\n",
       "        vertical-align: middle;\n",
       "    }\n",
       "\n",
       "    .dataframe tbody tr th {\n",
       "        vertical-align: top;\n",
       "    }\n",
       "\n",
       "    .dataframe thead th {\n",
       "        text-align: right;\n",
       "    }\n",
       "</style>\n",
       "<table border=\"1\" class=\"dataframe\">\n",
       "  <thead>\n",
       "    <tr style=\"text-align: right;\">\n",
       "      <th></th>\n",
       "      <th>price</th>\n",
       "    </tr>\n",
       "    <tr>\n",
       "      <th>date</th>\n",
       "      <th></th>\n",
       "    </tr>\n",
       "  </thead>\n",
       "  <tbody>\n",
       "    <tr>\n",
       "      <th>2022-09-12</th>\n",
       "      <td>3420.99</td>\n",
       "    </tr>\n",
       "    <tr>\n",
       "      <th>2022-09-13</th>\n",
       "      <td>3393.37</td>\n",
       "    </tr>\n",
       "    <tr>\n",
       "      <th>2022-09-14</th>\n",
       "      <td>3395.37</td>\n",
       "    </tr>\n",
       "    <tr>\n",
       "      <th>2022-09-15</th>\n",
       "      <td>3427.65</td>\n",
       "    </tr>\n",
       "    <tr>\n",
       "      <th>2022-09-16</th>\n",
       "      <td>6837.89</td>\n",
       "    </tr>\n",
       "    <tr>\n",
       "      <th>2022-09-19</th>\n",
       "      <td>3451.78</td>\n",
       "    </tr>\n",
       "    <tr>\n",
       "      <th>2022-09-20</th>\n",
       "      <td>3307.32</td>\n",
       "    </tr>\n",
       "    <tr>\n",
       "      <th>2022-09-21</th>\n",
       "      <td>3424.14</td>\n",
       "    </tr>\n",
       "    <tr>\n",
       "      <th>2022-09-22</th>\n",
       "      <td>3425.38</td>\n",
       "    </tr>\n",
       "    <tr>\n",
       "      <th>2022-09-23</th>\n",
       "      <td>6773.46</td>\n",
       "    </tr>\n",
       "    <tr>\n",
       "      <th>2022-09-26</th>\n",
       "      <td>3331.72</td>\n",
       "    </tr>\n",
       "    <tr>\n",
       "      <th>2022-09-27</th>\n",
       "      <td>3348.19</td>\n",
       "    </tr>\n",
       "    <tr>\n",
       "      <th>2022-09-28</th>\n",
       "      <td>3417.99</td>\n",
       "    </tr>\n",
       "    <tr>\n",
       "      <th>2022-09-29</th>\n",
       "      <td>3437.62</td>\n",
       "    </tr>\n",
       "    <tr>\n",
       "      <th>2022-09-30</th>\n",
       "      <td>3406.78</td>\n",
       "    </tr>\n",
       "  </tbody>\n",
       "</table>\n",
       "</div>"
      ],
      "text/plain": [
       "              price\n",
       "date               \n",
       "2022-09-12  3420.99\n",
       "2022-09-13  3393.37\n",
       "2022-09-14  3395.37\n",
       "2022-09-15  3427.65\n",
       "2022-09-16  6837.89\n",
       "2022-09-19  3451.78\n",
       "2022-09-20  3307.32\n",
       "2022-09-21  3424.14\n",
       "2022-09-22  3425.38\n",
       "2022-09-23  6773.46\n",
       "2022-09-26  3331.72\n",
       "2022-09-27  3348.19\n",
       "2022-09-28  3417.99\n",
       "2022-09-29  3437.62\n",
       "2022-09-30  3406.78"
      ]
     },
     "execution_count": 332,
     "metadata": {},
     "output_type": "execute_result"
    }
   ],
   "source": [
    "customer_orders.groupby(\"date\").sum()"
   ]
  },
  {
   "cell_type": "code",
   "execution_count": 333,
   "metadata": {},
   "outputs": [],
   "source": [
    "customer_orders[\"time\"] = customer_orders[\"time_of_order\"].str[11:]"
   ]
  },
  {
   "cell_type": "code",
   "execution_count": 334,
   "metadata": {},
   "outputs": [
    {
     "data": {
      "text/plain": [
       "'10:00:25'"
      ]
     },
     "execution_count": 334,
     "metadata": {},
     "output_type": "execute_result"
    }
   ],
   "source": [
    "customer_orders[\"time\"].min()"
   ]
  },
  {
   "cell_type": "code",
   "execution_count": 335,
   "metadata": {},
   "outputs": [
    {
     "data": {
      "text/html": [
       "<div>\n",
       "<style scoped>\n",
       "    .dataframe tbody tr th:only-of-type {\n",
       "        vertical-align: middle;\n",
       "    }\n",
       "\n",
       "    .dataframe tbody tr th {\n",
       "        vertical-align: top;\n",
       "    }\n",
       "\n",
       "    .dataframe thead th {\n",
       "        text-align: right;\n",
       "    }\n",
       "</style>\n",
       "<table border=\"1\" class=\"dataframe\">\n",
       "  <thead>\n",
       "    <tr style=\"text-align: right;\">\n",
       "      <th></th>\n",
       "      <th>id</th>\n",
       "      <th>price</th>\n",
       "      <th>time_of_order</th>\n",
       "      <th>employee_id</th>\n",
       "      <th>date</th>\n",
       "      <th>time</th>\n",
       "    </tr>\n",
       "  </thead>\n",
       "  <tbody>\n",
       "    <tr>\n",
       "      <th>6119</th>\n",
       "      <td>6120</td>\n",
       "      <td>10.38</td>\n",
       "      <td>2022-09-30 15:56:30</td>\n",
       "      <td>6</td>\n",
       "      <td>2022-09-30</td>\n",
       "      <td>15:56:30</td>\n",
       "    </tr>\n",
       "    <tr>\n",
       "      <th>6120</th>\n",
       "      <td>6121</td>\n",
       "      <td>7.29</td>\n",
       "      <td>2022-09-30 15:57:25</td>\n",
       "      <td>6</td>\n",
       "      <td>2022-09-30</td>\n",
       "      <td>15:57:25</td>\n",
       "    </tr>\n",
       "    <tr>\n",
       "      <th>6121</th>\n",
       "      <td>6122</td>\n",
       "      <td>9.58</td>\n",
       "      <td>2022-09-30 15:58:32</td>\n",
       "      <td>6</td>\n",
       "      <td>2022-09-30</td>\n",
       "      <td>15:58:32</td>\n",
       "    </tr>\n",
       "    <tr>\n",
       "      <th>6122</th>\n",
       "      <td>6123</td>\n",
       "      <td>9.29</td>\n",
       "      <td>2022-09-30 15:59:31</td>\n",
       "      <td>6</td>\n",
       "      <td>2022-09-30</td>\n",
       "      <td>15:59:31</td>\n",
       "    </tr>\n",
       "    <tr>\n",
       "      <th>6123</th>\n",
       "      <td>6124</td>\n",
       "      <td>10.38</td>\n",
       "      <td>2022-09-30 16:00:34</td>\n",
       "      <td>6</td>\n",
       "      <td>2022-09-30</td>\n",
       "      <td>16:00:34</td>\n",
       "    </tr>\n",
       "  </tbody>\n",
       "</table>\n",
       "</div>"
      ],
      "text/plain": [
       "        id  price        time_of_order employee_id        date      time\n",
       "6119  6120  10.38  2022-09-30 15:56:30           6  2022-09-30  15:56:30\n",
       "6120  6121   7.29  2022-09-30 15:57:25           6  2022-09-30  15:57:25\n",
       "6121  6122   9.58  2022-09-30 15:58:32           6  2022-09-30  15:58:32\n",
       "6122  6123   9.29  2022-09-30 15:59:31           6  2022-09-30  15:59:31\n",
       "6123  6124  10.38  2022-09-30 16:00:34           6  2022-09-30  16:00:34"
      ]
     },
     "execution_count": 335,
     "metadata": {},
     "output_type": "execute_result"
    }
   ],
   "source": [
    "customer_orders.tail()"
   ]
  },
  {
   "cell_type": "code",
   "execution_count": null,
   "metadata": {},
   "outputs": [],
   "source": []
  }
 ],
 "metadata": {
  "kernelspec": {
   "display_name": "Python 3.8.5 ('base')",
   "language": "python",
   "name": "python3"
  },
  "language_info": {
   "codemirror_mode": {
    "name": "ipython",
    "version": 3
   },
   "file_extension": ".py",
   "mimetype": "text/x-python",
   "name": "python",
   "nbconvert_exporter": "python",
   "pygments_lexer": "ipython3",
   "version": "3.8.5"
  },
  "orig_nbformat": 4,
  "vscode": {
   "interpreter": {
    "hash": "a3396d1d34bcd0c42c2d51b9ead1bfd89567013c2dcfb5d40c763835eb129dad"
   }
  }
 },
 "nbformat": 4,
 "nbformat_minor": 2
}
